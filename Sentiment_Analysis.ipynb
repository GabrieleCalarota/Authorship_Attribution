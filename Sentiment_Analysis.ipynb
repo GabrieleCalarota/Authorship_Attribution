{
 "cells": [
  {
   "cell_type": "markdown",
   "metadata": {},
   "source": [
    "# Sentiment Analysis Example Use case"
   ]
  },
  {
   "cell_type": "code",
   "execution_count": 3,
   "metadata": {
    "collapsed": true
   },
   "outputs": [],
   "source": [
    "#Import NLTK\n",
    "import nltk.classify.util\n",
    "from nltk.classify import NaiveBayesClassifier\n",
    "from nltk.corpus import names"
   ]
  },
  {
   "cell_type": "code",
   "execution_count": 4,
   "metadata": {
    "collapsed": true
   },
   "outputs": [],
   "source": [
    "def word_feats(words):\n",
    "    return dict([(word, True) for word in words])\n",
    "\n",
    "#Define sentiment analysis function\n",
    "\n",
    "def Sentiment_Analysis(sentence): \n",
    "    positive_vocab = [ 'awesome', 'outstanding', 'fantastic', 'terrific', 'good', 'nice', 'great', ':)' ]\n",
    "    negative_vocab = [ 'bad', 'terrible','useless', 'hate', ':(' ]\n",
    "    neutral_vocab = [ 'movie','the','sound','was','is','actors','did','know','words','not' ]\n",
    "     \n",
    "    positive_features = [(word_feats(pos), 'pos') for pos in positive_vocab]\n",
    "    negative_features = [(word_feats(neg), 'neg') for neg in negative_vocab]\n",
    "    neutral_features = [(word_feats(neu), 'neu') for neu in neutral_vocab]\n",
    "     \n",
    "    train_set = negative_features + positive_features + neutral_features\n",
    "     \n",
    "    classifier = NaiveBayesClassifier.train(train_set) \n",
    "     \n",
    "    # Predict\n",
    "    neg = 0\n",
    "    pos = 0\n",
    "    sentence = sentence.lower()\n",
    "    words = sentence.split(' ')\n",
    "    for word in words:\n",
    "        classResult = classifier.classify( word_feats(word))\n",
    "        if classResult == 'neg':\n",
    "            neg = neg + 1\n",
    "        if classResult == 'pos':\n",
    "            pos = pos + 1\n",
    "     \n",
    "    print('Positive: ' + str(float(pos)/len(words)))\n",
    "    print('Negative: ' + str(float(neg)/len(words)))"
   ]
  },
  {
   "cell_type": "code",
   "execution_count": 5,
   "metadata": {},
   "outputs": [
    {
     "name": "stdout",
     "output_type": "stream",
     "text": [
      "Awesome movie, Great actors, I liked it\n",
      "Positive: 0.7142857142857143\n",
      "Negative: 0.14285714285714285\n",
      "The sound effects were bad, terrible movie\n",
      "Positive: 0.2857142857142857\n",
      "Negative: 0.42857142857142855\n"
     ]
    }
   ],
   "source": [
    "sentence1 = \"Awesome movie, Great actors, I liked it\"\n",
    "print(sentence1)\n",
    "Sentiment_Analysis(sentence1)\n",
    "sentence2 = \"The sound effects were bad, terrible movie\"\n",
    "print(sentence2)\n",
    "Sentiment_Analysis(sentence2)"
   ]
  },
  {
   "cell_type": "code",
   "execution_count": null,
   "metadata": {
    "collapsed": true
   },
   "outputs": [],
   "source": []
  }
 ],
 "metadata": {
  "kernelspec": {
   "display_name": "Python 3",
   "language": "python",
   "name": "python3"
  },
  "language_info": {
   "codemirror_mode": {
    "name": "ipython",
    "version": 3
   },
   "file_extension": ".py",
   "mimetype": "text/x-python",
   "name": "python",
   "nbconvert_exporter": "python",
   "pygments_lexer": "ipython3",
   "version": "3.6.2"
  }
 },
 "nbformat": 4,
 "nbformat_minor": 2
}
